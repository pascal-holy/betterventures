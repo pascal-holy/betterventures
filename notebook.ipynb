{
 "cells": [
  {
   "cell_type": "markdown",
   "id": "98853e01-98bf-49e7-8750-0643b4402bf3",
   "metadata": {},
   "source": [
    "# Identifying repositories with impact driven technology\n",
    "Due to time constraints, I utilized ChatGPT to assist in generating the following code. This allowed me to focus on defining a robust metric for identifying 'trending' repositories. The provided example, \"repositories that gained X stars in the last week,\" was not feasible without consistently storing star counts over time.\n",
    "\n",
    "Alternatively, I propose an approach that avoids the need for recurring requests. By fetching the number of issues created for each repository within the last 30 days, we can effectively quantify the engagement these repositories are receiving."
   ]
  },
  {
   "cell_type": "markdown",
   "id": "3e53db41-983d-417c-a6d0-f82965b00481",
   "metadata": {},
   "source": [
    "## Fetching the data"
   ]
  },
  {
   "cell_type": "code",
   "execution_count": 2,
   "id": "430c121c-5c73-4eba-b827-b3e4815bdddc",
   "metadata": {},
   "outputs": [],
   "source": [
    "import requests\n",
    "import pandas as pd\n",
    "from datetime import datetime, timedelta\n",
    "\n",
    "# GitHub API base URL\n",
    "GITHUB_API_URL = \"https://api.github.com/search/repositories\"\n",
    "\n",
    "# Time window: last two years\n",
    "two_years_ago = (datetime.now() - timedelta(days=2*365)).strftime('%Y-%m-%d')\n",
    "\n",
    "# Time window for issues created in the last week\n",
    "one_week_ago = (datetime.now() - timedelta(days=7)).isoformat()\n",
    "\n",
    "# Time window for issues created in the last month\n",
    "one_month_ago = (datetime.now() - timedelta(days=30)).isoformat()\n",
    "\n",
    "# Query parameters for GitHub API\n",
    "query = f'created:>{two_years_ago} stars:>100 (sustainability OR education OR health OR \"clean energy\" OR climate)'\n",
    "\n",
    "# Request headers (optional GitHub token to avoid rate limits)\n",
    "headers = {\n",
    "    'Accept': 'application/vnd.github.v3+json',\n",
    "    'Authorization': 'token <YOUR_GITHUB_TOKEN>' # Optional for higher rate limits\n",
    "}\n",
    "\n",
    "# Collecting results from multiple pages\n",
    "repositories = []\n",
    "page = 1\n",
    "\n",
    "while True:\n",
    "    params = {\n",
    "        'q': query,\n",
    "        'sort': 'stars',\n",
    "        'order': 'desc',\n",
    "        'per_page': 100,\n",
    "        'page': page\n",
    "    }\n",
    "    \n",
    "    # API request\n",
    "    response = requests.get(GITHUB_API_URL, headers=headers, params=params)\n",
    "    \n",
    "    if response.status_code != 200:\n",
    "        print(f\"Error: {response.status_code}, {response.json().get('message')}\")\n",
    "        break\n",
    "    \n",
    "    # Parse the JSON response\n",
    "    result = response.json()\n",
    "    repositories.extend(result['items'])\n",
    "    \n",
    "    # Check if there are more pages\n",
    "    if 'next' not in response.links:\n",
    "        break\n",
    "    \n",
    "    page += 1\n",
    "\n",
    "# Function to get the most used programming language of a repository\n",
    "def get_most_used_language(languages_url):\n",
    "    response = requests.get(languages_url, headers=headers)\n",
    "    if response.status_code == 200:\n",
    "        languages = response.json()\n",
    "        if languages:\n",
    "            # Get the most used language based on the highest byte count\n",
    "            return max(languages, key=languages.get)\n",
    "    return None\n",
    "\n",
    "# Function to get the number of issues created in the last week\n",
    "def get_recent_issues_count(issues_url):\n",
    "    params = {\n",
    "        'since': one_month_ago\n",
    "    }\n",
    "    response = requests.get(issues_url, headers=headers, params=params)\n",
    "    if response.status_code == 200:\n",
    "        issues = response.json()\n",
    "        return len(issues)\n",
    "    return 0\n",
    "\n",
    "# Extract the required fields and fetch the most used language and recent issues count\n",
    "data = []\n",
    "for repo in repositories:\n",
    "    repo_data = {\n",
    "        'name': repo['name'],\n",
    "        'description': repo['description'],\n",
    "        'stars': repo['stargazers_count'],\n",
    "        'created_at': repo['created_at'],\n",
    "        'url': repo['html_url'],\n",
    "        'most_used_language': get_most_used_language(repo['languages_url']),\n",
    "        'recent_issues_count': get_recent_issues_count(repo['issues_url'].replace('{/number}', ''))\n",
    "    }\n",
    "    data.append(repo_data)\n",
    "\n",
    "# Convert to DataFrame\n",
    "df = pd.DataFrame(data)\n"
   ]
  },
  {
   "cell_type": "markdown",
   "id": "69e55faa-147f-4594-9861-62b29cb743a6",
   "metadata": {},
   "source": [
    "## Analysis\n",
    "Since we have already retrieved the most-used language for each repository and added this information to the data frame, identifying the top five languages across all repositories becomes straightforward."
   ]
  },
  {
   "cell_type": "code",
   "execution_count": 1,
   "id": "9006ef23-178a-49d9-9082-1a1b05065020",
   "metadata": {},
   "outputs": [
    {
     "ename": "NameError",
     "evalue": "name 'df' is not defined",
     "output_type": "error",
     "traceback": [
      "\u001b[0;31m---------------------------------------------------------------------------\u001b[0m",
      "\u001b[0;31mNameError\u001b[0m                                 Traceback (most recent call last)",
      "Cell \u001b[0;32mIn[1], line 2\u001b[0m\n\u001b[1;32m      1\u001b[0m \u001b[38;5;66;03m# Find the top 5 most used languages\u001b[39;00m\n\u001b[0;32m----> 2\u001b[0m language_counts \u001b[38;5;241m=\u001b[39m \u001b[43mdf\u001b[49m[\u001b[38;5;124m'\u001b[39m\u001b[38;5;124mmost_used_language\u001b[39m\u001b[38;5;124m'\u001b[39m]\u001b[38;5;241m.\u001b[39mvalue_counts()\n\u001b[1;32m      4\u001b[0m \u001b[38;5;66;03m# Get the top 5 most used languages\u001b[39;00m\n\u001b[1;32m      5\u001b[0m top_5_languages \u001b[38;5;241m=\u001b[39m language_counts\u001b[38;5;241m.\u001b[39mhead(\u001b[38;5;241m6\u001b[39m)\n",
      "\u001b[0;31mNameError\u001b[0m: name 'df' is not defined"
     ]
    }
   ],
   "source": [
    "# Find the top 5 most used languages\n",
    "language_counts = df['most_used_language'].value_counts()\n",
    "\n",
    "# Get the top 5 most used languages\n",
    "top_5_languages = language_counts.head(6)\n",
    "top_5_languages"
   ]
  },
  {
   "cell_type": "markdown",
   "id": "7bcdb23d-a213-4412-b926-5c9446d7fd71",
   "metadata": {},
   "source": [
    "For the bonus and because it is so easy with Jupyter Notebook here is the simplest visualisation possible"
   ]
  },
  {
   "cell_type": "code",
   "execution_count": 69,
   "id": "5466667d-70bc-424c-9491-63c707575d7f",
   "metadata": {},
   "outputs": [
    {
     "data": {
      "text/plain": [
       "<Axes: xlabel='most_used_language'>"
      ]
     },
     "execution_count": 69,
     "metadata": {},
     "output_type": "execute_result"
    },
    {
     "data": {
      "image/png": "[encoded data removed]",
      "text/plain": [
       "<Figure size 640x480 with 1 Axes>"
      ]
     },
     "metadata": {},
     "output_type": "display_data"
    }
   ],
   "source": [
    "top_5_languages.plot.bar()"
   ]
  },
  {
   "cell_type": "markdown",
   "id": "8607454d-211d-4959-be6a-cd3b38d973da",
   "metadata": {},
   "source": [
    "Average number of stars is"
   ]
  },
  {
   "cell_type": "code",
   "execution_count": 103,
   "id": "8ce15356-0a3d-494c-8598-1bb1d87689a3",
   "metadata": {},
   "outputs": [
    {
     "data": {
      "text/plain": [
       "np.float64(1632.76)"
      ]
     },
     "execution_count": 103,
     "metadata": {},
     "output_type": "execute_result"
    }
   ],
   "source": [
    "df['stars'].mean()"
   ]
  },
  {
   "cell_type": "markdown",
   "id": "b964860c-832c-48aa-9110-25aba43b727c",
   "metadata": {},
   "source": [
    "The repositories with the highest star counts are listed below, as we had previously requested the GitHub API to sort the results in descending order by stars."
   ]
  },
  {
   "cell_type": "code",
   "execution_count": 63,
   "id": "fbe3f45c-e094-4539-838b-e072b566bcd9",
   "metadata": {},
   "outputs": [
    {
     "data": {
      "text/html": [
       "<div>\n",
       "<style scoped>\n",
       "    .dataframe tbody tr th:only-of-type {\n",
       "        vertical-align: middle;\n",
       "    }\n",
       "\n",
       "    .dataframe tbody tr th {\n",
       "        vertical-align: top;\n",
       "    }\n",
       "\n",
       "    .dataframe thead th {\n",
       "        text-align: right;\n",
       "    }\n",
       "</style>\n",
       "<table border=\"1\" class=\"dataframe\">\n",
       "  <thead>\n",
       "    <tr style=\"text-align: right;\">\n",
       "      <th></th>\n",
       "      <th>name</th>\n",
       "      <th>description</th>\n",
       "      <th>stars</th>\n",
       "      <th>created_at</th>\n",
       "      <th>url</th>\n",
       "      <th>most_used_language</th>\n",
       "    </tr>\n",
       "  </thead>\n",
       "  <tbody>\n",
       "    <tr>\n",
       "      <th>0</th>\n",
       "      <td>hello-algo</td>\n",
       "      <td>《Hello 算法》：动画图解、一键运行的数据结构与算法教程。支持 Python, Java...</td>\n",
       "      <td>95608</td>\n",
       "      <td>2022-11-04T11:08:34Z</td>\n",
       "      <td>https://github.com/krahets/hello-algo</td>\n",
       "      <td>Java</td>\n",
       "    </tr>\n",
       "    <tr>\n",
       "      <th>1</th>\n",
       "      <td>Mr.-Ranedeer-AI-Tutor</td>\n",
       "      <td>A GPT-4 AI Tutor Prompt for customizable perso...</td>\n",
       "      <td>28530</td>\n",
       "      <td>2023-03-31T12:37:26Z</td>\n",
       "      <td>https://github.com/JushBJJ/Mr.-Ranedeer-AI-Tutor</td>\n",
       "      <td>None</td>\n",
       "    </tr>\n",
       "    <tr>\n",
       "      <th>2</th>\n",
       "      <td>Doctor-Dignity</td>\n",
       "      <td>Doctor Dignity is an LLM that can pass the US ...</td>\n",
       "      <td>3841</td>\n",
       "      <td>2023-08-06T18:02:55Z</td>\n",
       "      <td>https://github.com/llSourcell/Doctor-Dignity</td>\n",
       "      <td>Python</td>\n",
       "    </tr>\n",
       "  </tbody>\n",
       "</table>\n",
       "</div>"
      ],
      "text/plain": [
       "                    name                                        description  \\\n",
       "0             hello-algo  《Hello 算法》：动画图解、一键运行的数据结构与算法教程。支持 Python, Java...   \n",
       "1  Mr.-Ranedeer-AI-Tutor  A GPT-4 AI Tutor Prompt for customizable perso...   \n",
       "2         Doctor-Dignity  Doctor Dignity is an LLM that can pass the US ...   \n",
       "\n",
       "   stars            created_at  \\\n",
       "0  95608  2022-11-04T11:08:34Z   \n",
       "1  28530  2023-03-31T12:37:26Z   \n",
       "2   3841  2023-08-06T18:02:55Z   \n",
       "\n",
       "                                                url most_used_language  \n",
       "0             https://github.com/krahets/hello-algo               Java  \n",
       "1  https://github.com/JushBJJ/Mr.-Ranedeer-AI-Tutor               None  \n",
       "2      https://github.com/llSourcell/Doctor-Dignity             Python  "
      ]
     },
     "execution_count": 63,
     "metadata": {},
     "output_type": "execute_result"
    }
   ],
   "source": [
    "df.head(3)"
   ]
  },
  {
   "cell_type": "markdown",
   "id": "16177835-b8a4-4db8-bdae-f25160ca7c09",
   "metadata": {},
   "source": [
    "The task instructed me to store the result in a file rather than in the output of this notebook. However, I opted for this approach as it provides a more human-readable format and encourages users to interact with the data. Additionally, this allowed me to allocate more time to the remaining task."
   ]
  },
  {
   "cell_type": "markdown",
   "id": "90bf5d5a-7e5f-4a2a-bbe4-21e805af50da",
   "metadata": {},
   "source": [
    "## Augmenting the data with AI"
   ]
  },
  {
   "cell_type": "markdown",
   "id": "4c62197b-611a-4c32-a376-19b74e3cd98a",
   "metadata": {},
   "source": [
    "Again ChatGPT gave me a good starting point but I didn't have the time to test this at all:"
   ]
  },
  {
   "cell_type": "code",
   "execution_count": 72,
   "id": "19d3454e-1269-4c05-8be8-0b6af2bd47c8",
   "metadata": {},
   "outputs": [],
   "source": [
    "import openai\n",
    "openai.api_key = <OPENAI_API_KEY>\n",
    "\n",
    "def summarize_description(description):\n",
    "    try:\n",
    "        response = openai.Completion.create(\n",
    "            engine=\"text-davinci-003\",  # You can change the model if needed\n",
    "            prompt=f\"Summarize the following repository description highlighting the potential positive impact: {description}\",\n",
    "            max_tokens=50,\n",
    "            n=1,\n",
    "            stop=None,\n",
    "            temperature=0.7,\n",
    "        )\n",
    "        summary = response.choices[0].text.strip()\n",
    "        return summary\n",
    "    except Exception as e:\n",
    "        return f\"Error summarizing description: {e}\""
   ]
  },
  {
   "cell_type": "markdown",
   "id": "027b833a-bb9b-4b92-9939-98a2f42070d7",
   "metadata": {},
   "source": [
    "I then utilized this data to add a new column to the DataFrame, which contains the summary of each repository's description."
   ]
  },
  {
   "cell_type": "code",
   "execution_count": null,
   "id": "bcc4f2f2-a51f-498f-992b-153a1d890ac8",
   "metadata": {},
   "outputs": [],
   "source": [
    "df['description_summary'] = df['description'].apply(summarize_description)"
   ]
  },
  {
   "cell_type": "markdown",
   "id": "24c38936-d353-42f1-a322-cd317dbdd5be",
   "metadata": {},
   "source": [
    "To generate a VC impact score I also used the OpenAI API and came up with a prompt that should return (I have not tested this properly since I was out of time) a json that has keys for each UN sustainable development goal and a value between 0 and 5 that represent the repositories impact in that regard."
   ]
  },
  {
   "cell_type": "code",
   "execution_count": null,
   "id": "2092f367-296b-4276-af3b-319c7dce8a4d",
   "metadata": {},
   "outputs": [],
   "source": [
    "def rate_sdg_alignment(description):\n",
    "    try:\n",
    "        response = openai.Completion.create(\n",
    "            engine=\"text-davinci-003\",  # You can change the model if needed\n",
    "            prompt=f\"Evaluate the description of this Github repository based on its alignment with the 17 UN Sustainable Development Goals and return a json with values from 0 to 5 for each: {description}\",\n",
    "            max_tokens=50,\n",
    "            n=1,\n",
    "            stop=None,\n",
    "            temperature=0.7,\n",
    "        )\n",
    "        summary = response.choices[0].text.strip()\n",
    "        return summary\n",
    "    except Exception as e:\n",
    "        return f\"Error summarizing description: {e}\""
   ]
  }
 ],
 "metadata": {
  "kernelspec": {
   "display_name": "better-ventures",
   "language": "python",
   "name": "better-ventures"
  },
  "language_info": {
   "codemirror_mode": {
    "name": "ipython",
    "version": 3
   },
   "file_extension": ".py",
   "mimetype": "text/x-python",
   "name": "python",
   "nbconvert_exporter": "python",
   "pygments_lexer": "ipython3",
   "version": "3.10.12"
  }
 },
 "nbformat": 4,
 "nbformat_minor": 5
}
